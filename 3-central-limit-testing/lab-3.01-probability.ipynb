{
 "cells": [
  {
   "cell_type": "markdown",
   "metadata": {},
   "source": [
    "# Lab 3.01 - Probability\n",
    "\n"
   ]
  },
  {
   "cell_type": "code",
   "execution_count": null,
   "metadata": {},
   "outputs": [],
   "source": [
    "# Package imports"
   ]
  },
  {
   "cell_type": "markdown",
   "metadata": {},
   "source": [
    "## Exercise 1.1 - Probabilities for normal distributions\n",
    "\n",
    "Calculate the given probabilities in the standard normal distribution $Z \\sim Nor(\\mu=0, \\sigma=1)$.\n"
   ]
  },
  {
   "cell_type": "markdown",
   "metadata": {},
   "source": []
  },
  {
   "cell_type": "markdown",
   "metadata": {},
   "source": [
    "\n",
    "### Answers\n",
    "\n",
    "Compare your solutions with the given answers.\n",
    "\n",
    "|     | Calculate:             | Answer: |\n",
    "| :-- | :--------------------- | :------ |\n",
    "| 1.  | $P(Z < 1.33)$          | 0.908   |\n",
    "| 2.  | $P(Z > 1.33)$          | 0.092   |\n",
    "| 3.  | $P(Z < −1.33)$         | 0.092   |\n",
    "| 4.  | $P(Z > −1.33)$         | 0.908   |\n",
    "| 5.  | $P(Z < 0.45)$          | 0.674   |\n",
    "| 6.  | $P(Z > −1.05)$         | 0.853   |\n",
    "| 7.  | $P(Z < 0.65)$          | 0.742   |\n",
    "| 8.  | $P(−0.45 < Z < 1.20)$  | 0.559   |\n",
    "| 9.  | $P(−1.35 < Z < −0.10)$ | 0.372   |\n",
    "| 10. | $P(−2.10 < Z < −0.90)$ | 0.166   |"
   ]
  },
  {
   "cell_type": "markdown",
   "metadata": {},
   "source": [
    "## Exercise 1.2 - Plot probability density\n",
    "\n",
    "Make a graphical plot of the probability density function and the cumulative distribution function of a normal distribution with $\\mu = 2.5$ and $\\sigma = 1.5$.\n",
    "\n",
    "What is the area under the density function between  x=0.5  and  x=4 . (Answer = 0.750)"
   ]
  },
  {
   "cell_type": "code",
   "execution_count": null,
   "metadata": {},
   "outputs": [],
   "source": []
  },
  {
   "cell_type": "markdown",
   "metadata": {},
   "source": [
    "## Exercise 1.3 - Student t vs normal distribution\n",
    "\n",
    "Make a plot of the probability density function and the cumulative distribution function for the Student's t-distribution with 3 degrees of freedom. \n",
    "\n",
    "Also plot the standard normal distribution, so you can compare both."
   ]
  },
  {
   "cell_type": "code",
   "execution_count": null,
   "metadata": {},
   "outputs": [],
   "source": []
  },
  {
   "cell_type": "markdown",
   "metadata": {},
   "source": [
    "## Exercise 1.4 - Reliability of backups\n",
    "\n",
    "A hard drive has a 1% probability to crash. Therefore, we take two backups, each having a 2% probability to crash. The three components work independently of each other. Data is lost only when all three components crash.\n",
    "\n",
    "Question: what is the probability that the data is not lost?"
   ]
  },
  {
   "cell_type": "code",
   "execution_count": null,
   "metadata": {},
   "outputs": [],
   "source": []
  },
  {
   "cell_type": "markdown",
   "metadata": {},
   "source": [
    "## Exercise 1.5\n",
    "\n",
    "Consider the two games of chance mentioned in the slides:\n",
    "\n",
    "- Bet on: at least one six when throwing a fair die 4 consecutive times.\n",
    "- Bet on: at least one \"double six\" when throwing two fair dice 24 times.\n",
    "\n",
    "Question: calculate the exact probability of winning each of these two games. Compare your answer with the long-term frequency of winning shown in the slides."
   ]
  },
  {
   "cell_type": "code",
   "execution_count": null,
   "metadata": {},
   "outputs": [],
   "source": []
  },
  {
   "cell_type": "markdown",
   "metadata": {},
   "source": [
    "## Exercise 1.6 - Expectation of $X-a$\n",
    "\n",
    "Consider the probability distribution of the random variable $X$ giving the sum of the eyes when throwing two dice.\n",
    "\n",
    "- This probability distribution is symmetric around 7. Verify (by using the definition of expectation) that the expectation of $X$ is also 7.\n",
    "\n",
    "- Suppose that you have to pay €8 to play a game where your earnings are the sum of the eyes when throwing two dice. Denote your profit (or loss) by $Y$. What is the relationship between $Y$ and $X$? Give the expectation of $Y$. What is the relationship with the expectation of $X$?\n",
    "\n",
    "- Can you see a general relationship between the expectation of $X − a$ and that of $X$, where $a$ is a real number?"
   ]
  },
  {
   "cell_type": "code",
   "execution_count": null,
   "metadata": {},
   "outputs": [],
   "source": []
  },
  {
   "cell_type": "markdown",
   "metadata": {},
   "source": [
    "## Exercise 1.7 - Variance of $X/a$\n",
    "\n",
    "Consider the probability distribution of the random variable $X$ giving the sum of the eyes when throwing two dice.\n",
    "\n",
    "- Calculate the variance of $X$.\n",
    "\n",
    "- Suppose the profit you make is only half of the sum of the eyes when throwing two dice. Denote your profit (or loss) by $Y$. What is the relationship between $Y$ and $X$? Give the variance of $Y$. What is the relationship with the variance of $X$?\n",
    "\n",
    "- Can you see a general relationship between the variance of $X/a$ and that of $X$, where $a$ is a real non-zero number?"
   ]
  },
  {
   "cell_type": "code",
   "execution_count": null,
   "metadata": {},
   "outputs": [],
   "source": []
  },
  {
   "cell_type": "markdown",
   "metadata": {},
   "source": [
    "## Exercise 1.8 - Expectation and variance of $(X−\\mu)/\\sigma$)\n",
    "\n",
    "Using the information from the two previous exercises, determine the expectation and variance for a random variable $Z$ given by\n",
    "\n",
    "$Z = \\frac{X-\\mu_X}{\\sigma_X}$"
   ]
  },
  {
   "cell_type": "code",
   "execution_count": null,
   "metadata": {},
   "outputs": [],
   "source": []
  }
 ],
 "metadata": {
  "kernelspec": {
   "display_name": "Python 3",
   "language": "python",
   "name": "python3"
  },
  "language_info": {
   "codemirror_mode": {
    "name": "ipython",
    "version": 3
   },
   "file_extension": ".py",
   "mimetype": "text/x-python",
   "name": "python",
   "nbconvert_exporter": "python",
   "pygments_lexer": "ipython3",
   "version": "3.11.8"
  }
 },
 "nbformat": 4,
 "nbformat_minor": 2
}
