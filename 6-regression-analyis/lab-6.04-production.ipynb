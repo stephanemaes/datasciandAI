{
  "cells": [
    {
      "cell_type": "markdown",
      "metadata": {
        "id": "zY97xAN4a-J8"
      },
      "source": [
        "# Lab 6.04 - Regression analysis"
      ]
    },
    {
      "cell_type": "code",
      "execution_count": null,
      "metadata": {
        "id": "yH8_ZwQgrIGb"
      },
      "outputs": [],
      "source": [
        "# Package imports\n",
        "import numpy as np                                  # \"Scientific computing\"\n",
        "import scipy.stats as stats                         # Statistical tests\n",
        "\n",
        "import pandas as pd                                 # Dataframe\n",
        "import matplotlib.pyplot as plt                     # Basic visualisation\n",
        "from statsmodels.graphics.mosaicplot import mosaic  # Mosaic plot\n",
        "import seaborn as sns                               # Advanced dataviz\n",
        "from sklearn.linear_model import LinearRegression"
      ]
    },
    {
      "cell_type": "markdown",
      "metadata": {
        "id": "rv7mEXlLUpMd"
      },
      "source": [
        "## Exercise 4\n",
        "The file production.csv contains the production cost per unit produced. That is, producing the 100th unit costs 82 EUR and producing the 600th unit costs 34 EUR.  \n",
        "\n",
        "1. Make the following plot  \n",
        "\n",
        "![image.png](data:image/png;base64,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)\n",
        "\n",
        "2. Based on this plot  \n",
        "    1. Can you decide whether the relationship between the number of units produced and the production cost is positive / negative.   \n",
        "    2. Can you decide whether the relationship between number of units produced and production costis weak / strong.  \n",
        "    3. Can you decide whether $R$ will be between [-1,-0.5] / [-0.5, 0] / [0, 0.5] / [0.5,1].  \n",
        "3. What is the production cost for the 400th unit?  \n",
        "4. How much loss will the company incur if not a single unit is produced?  \n",
        "5. How much does it cost in total to produce 1000 units  \n",
        "\n",
        "\n",
        "Some answers:\n",
        "\n",
        "- 3. the 400th unit costs 46.5051  \n",
        "- 4. loss when no unit produced 81.392  \n",
        "- 5. total cost for 1000 units 37739.8969"
      ]
    },
    {
      "cell_type": "code",
      "execution_count": null,
      "metadata": {
        "colab": {
          "base_uri": "https://localhost:8080/",
          "height": 237
        },
        "id": "nn2xpDpfSW6S",
        "outputId": "755972d5-0b26-4371-927d-e980e0779391"
      },
      "outputs": [
        {
          "data": {
            "text/html": [
              "\n",
              "  <div id=\"df-17238c61-a30d-44cd-9e17-4d0de8dccd20\">\n",
              "    <div class=\"colab-df-container\">\n",
              "      <div>\n",
              "<style scoped>\n",
              "    .dataframe tbody tr th:only-of-type {\n",
              "        vertical-align: middle;\n",
              "    }\n",
              "\n",
              "    .dataframe tbody tr th {\n",
              "        vertical-align: top;\n",
              "    }\n",
              "\n",
              "    .dataframe thead th {\n",
              "        text-align: right;\n",
              "    }\n",
              "</style>\n",
              "<table border=\"1\" class=\"dataframe\">\n",
              "  <thead>\n",
              "    <tr style=\"text-align: right;\">\n",
              "      <th></th>\n",
              "      <th>unit_produced</th>\n",
              "      <th>production_cost</th>\n",
              "    </tr>\n",
              "  </thead>\n",
              "  <tbody>\n",
              "    <tr>\n",
              "      <th>0</th>\n",
              "      <td>100</td>\n",
              "      <td>82</td>\n",
              "    </tr>\n",
              "    <tr>\n",
              "      <th>1</th>\n",
              "      <td>150</td>\n",
              "      <td>68</td>\n",
              "    </tr>\n",
              "    <tr>\n",
              "      <th>2</th>\n",
              "      <td>200</td>\n",
              "      <td>59</td>\n",
              "    </tr>\n",
              "    <tr>\n",
              "      <th>3</th>\n",
              "      <td>300</td>\n",
              "      <td>47</td>\n",
              "    </tr>\n",
              "    <tr>\n",
              "      <th>4</th>\n",
              "      <td>500</td>\n",
              "      <td>37</td>\n",
              "    </tr>\n",
              "    <tr>\n",
              "      <th>5</th>\n",
              "      <td>600</td>\n",
              "      <td>34</td>\n",
              "    </tr>\n",
              "  </tbody>\n",
              "</table>\n",
              "</div>\n",
              "      <button class=\"colab-df-convert\" onclick=\"convertToInteractive('df-17238c61-a30d-44cd-9e17-4d0de8dccd20')\"\n",
              "              title=\"Convert this dataframe to an interactive table.\"\n",
              "              style=\"display:none;\">\n",
              "        \n",
              "  <svg xmlns=\"http://www.w3.org/2000/svg\" height=\"24px\"viewBox=\"0 0 24 24\"\n",
              "       width=\"24px\">\n",
              "    <path d=\"M0 0h24v24H0V0z\" fill=\"none\"/>\n",
              "    <path d=\"M18.56 5.44l.94 2.06.94-2.06 2.06-.94-2.06-.94-.94-2.06-.94 2.06-2.06.94zm-11 1L8.5 8.5l.94-2.06 2.06-.94-2.06-.94L8.5 2.5l-.94 2.06-2.06.94zm10 10l.94 2.06.94-2.06 2.06-.94-2.06-.94-.94-2.06-.94 2.06-2.06.94z\"/><path d=\"M17.41 7.96l-1.37-1.37c-.4-.4-.92-.59-1.43-.59-.52 0-1.04.2-1.43.59L10.3 9.45l-7.72 7.72c-.78.78-.78 2.05 0 2.83L4 21.41c.39.39.9.59 1.41.59.51 0 1.02-.2 1.41-.59l7.78-7.78 2.81-2.81c.8-.78.8-2.07 0-2.86zM5.41 20L4 18.59l7.72-7.72 1.47 1.35L5.41 20z\"/>\n",
              "  </svg>\n",
              "      </button>\n",
              "      \n",
              "  <style>\n",
              "    .colab-df-container {\n",
              "      display:flex;\n",
              "      flex-wrap:wrap;\n",
              "      gap: 12px;\n",
              "    }\n",
              "\n",
              "    .colab-df-convert {\n",
              "      background-color: #E8F0FE;\n",
              "      border: none;\n",
              "      border-radius: 50%;\n",
              "      cursor: pointer;\n",
              "      display: none;\n",
              "      fill: #1967D2;\n",
              "      height: 32px;\n",
              "      padding: 0 0 0 0;\n",
              "      width: 32px;\n",
              "    }\n",
              "\n",
              "    .colab-df-convert:hover {\n",
              "      background-color: #E2EBFA;\n",
              "      box-shadow: 0px 1px 2px rgba(60, 64, 67, 0.3), 0px 1px 3px 1px rgba(60, 64, 67, 0.15);\n",
              "      fill: #174EA6;\n",
              "    }\n",
              "\n",
              "    [theme=dark] .colab-df-convert {\n",
              "      background-color: #3B4455;\n",
              "      fill: #D2E3FC;\n",
              "    }\n",
              "\n",
              "    [theme=dark] .colab-df-convert:hover {\n",
              "      background-color: #434B5C;\n",
              "      box-shadow: 0px 1px 3px 1px rgba(0, 0, 0, 0.15);\n",
              "      filter: drop-shadow(0px 1px 2px rgba(0, 0, 0, 0.3));\n",
              "      fill: #FFFFFF;\n",
              "    }\n",
              "  </style>\n",
              "\n",
              "      <script>\n",
              "        const buttonEl =\n",
              "          document.querySelector('#df-17238c61-a30d-44cd-9e17-4d0de8dccd20 button.colab-df-convert');\n",
              "        buttonEl.style.display =\n",
              "          google.colab.kernel.accessAllowed ? 'block' : 'none';\n",
              "\n",
              "        async function convertToInteractive(key) {\n",
              "          const element = document.querySelector('#df-17238c61-a30d-44cd-9e17-4d0de8dccd20');\n",
              "          const dataTable =\n",
              "            await google.colab.kernel.invokeFunction('convertToInteractive',\n",
              "                                                     [key], {});\n",
              "          if (!dataTable) return;\n",
              "\n",
              "          const docLinkHtml = 'Like what you see? Visit the ' +\n",
              "            '<a target=\"_blank\" href=https://colab.research.google.com/notebooks/data_table.ipynb>data table notebook</a>'\n",
              "            + ' to learn more about interactive tables.';\n",
              "          element.innerHTML = '';\n",
              "          dataTable['output_type'] = 'display_data';\n",
              "          await google.colab.output.renderOutput(dataTable, element);\n",
              "          const docLink = document.createElement('div');\n",
              "          docLink.innerHTML = docLinkHtml;\n",
              "          element.appendChild(docLink);\n",
              "        }\n",
              "      </script>\n",
              "    </div>\n",
              "  </div>\n",
              "  "
            ],
            "text/plain": [
              "   unit_produced  production_cost\n",
              "0            100               82\n",
              "1            150               68\n",
              "2            200               59\n",
              "3            300               47\n",
              "4            500               37\n",
              "5            600               34"
            ]
          },
          "execution_count": 8,
          "metadata": {},
          "output_type": "execute_result"
        }
      ],
      "source": [
        "df = pd.read_csv('https://raw.githubusercontent.com/HoGentTIN/dsai-labs/main/data/production.csv', delimiter=\";\")\n",
        "df.head(20)"
      ]
    }
  ],
  "metadata": {
    "colab": {
      "provenance": []
    },
    "kernelspec": {
      "display_name": "Python 3",
      "name": "python3"
    },
    "language_info": {
      "name": "python"
    },
    "orig_nbformat": 4
  },
  "nbformat": 4,
  "nbformat_minor": 0
}
