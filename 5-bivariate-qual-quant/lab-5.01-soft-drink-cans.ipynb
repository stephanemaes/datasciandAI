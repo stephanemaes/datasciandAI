{
 "cells": [
  {
   "cell_type": "markdown",
   "metadata": {},
   "source": [
    "# Lab 5.01 - Two-sample t-test"
   ]
  },
  {
   "cell_type": "code",
   "execution_count": null,
   "metadata": {},
   "outputs": [],
   "source": [
    "# Package imports\n",
    "import numpy as np                                  # \"Scientific computing\"\n",
    "import scipy.stats as stats                         # Statistical tests\n",
    "\n",
    "import pandas as pd                                 # Dataframe\n",
    "import matplotlib.pyplot as plt                     # Basic visualisation\n",
    "from statsmodels.graphics.mosaicplot import mosaic  # Mosaic plot\n",
    "import seaborn as sns                               # Advanced dataviz"
   ]
  },
  {
   "cell_type": "markdown",
   "metadata": {},
   "source": [
    "## Exercise 1 - soft-drink cans\n",
    "\n",
    "Assume that a soft-drink company is considering a style change to its current can, which has been the company’s trademark for many years. To determine whether this new style is popular with consumers, the company runs a number of focus group sessions around the country. At each of these sessions, randomly selected consumers are allowed to examine the new and traditional styles, exchange ideas, and offer their opinions. \n",
    "Eventually, they fill out a form where, among other questions, they are asked to respond to \n",
    "the following items, each on a scale of 1 to 7, 7 being the best:\n",
    "- Rate the attractiveness of the traditional-style can (AO).\n",
    "- Rate the attractiveness of the new-style can (AN).\n",
    "- Rate the likelihood that you would buy the product with the traditional-style can (WBO).\n",
    "- Rate the likelihood that you would buy the product with the new-style can (WBN).\n",
    "\n",
    "(A and WB stand for \"attractiveness\" and \"would buy\", and O and N stand for \"old\" and \"new\".)\n",
    "\n",
    "Use a test to see whether \n",
    "consumers rate the attractiveness, and their likelihood to purchase, higher for a new-style can than for the traditional-style can. First make a boxplot.\n",
    "\n",
    "A few results\n",
    "- AO vs AN: pvalue=1.32316e-07 < 0.05 => the attractiveness of the new-style can is significantly higher than the attractiveness of the traditional-style can\n",
    "\n",
    "- WBO vs WBN: pvalue=2.00845995e-06 < 0.05 => the likelihood to buy the new-style can is significantly higher than the likelihood to buy the traditional-style can\n"
   ]
  },
  {
   "cell_type": "code",
   "execution_count": null,
   "metadata": {},
   "outputs": [],
   "source": []
  }
 ],
 "metadata": {
  "language_info": {
   "name": "python"
  },
  "orig_nbformat": 4
 },
 "nbformat": 4,
 "nbformat_minor": 2
}
