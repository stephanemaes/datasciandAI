{
  "cells": [
    {
      "cell_type": "markdown",
      "metadata": {
        "id": "ifLP6PF2VNyG"
      },
      "source": [
        "# Lab 7.03 - Time series analysis"
      ]
    },
    {
      "cell_type": "code",
      "execution_count": null,
      "metadata": {
        "id": "PwYaTAjzVNyI"
      },
      "outputs": [],
      "source": [
        "# Package imports"
      ]
    },
    {
      "cell_type": "markdown",
      "metadata": {
        "id": "nsaevyk8itxA"
      },
      "source": [
        "## Exercise 3 - Car sales\n",
        "\n",
        "An automobile dealer is using Holt's method to\n",
        "forecast weekly car sales. Currently, the level is\n",
        "estimated to be 50 cars per week, and the trend is\n",
        "estimated to be six cars per week. During the current\n",
        "week, 30 cars are sold. After observing the current\n",
        "week's sales, forecast the number of cars three weeks\n",
        "from now. Use $α = $β = 0.3.\n",
        "\n",
        "These are the appropriate formulae\n",
        "\n",
        "$X_{t} = \\alpha x_{t} + (1-\\alpha)(X_{t-1} + b_{t-1})$\n",
        "\n",
        "$b_{t} = \\beta(X_{t}-X_{t-1}) + (1-\\beta)b_{t-1}$\n",
        "\n",
        "$F_{t+m} = X_t + mb_t$"
      ]
    },
    {
      "cell_type": "code",
      "execution_count": null,
      "metadata": {},
      "outputs": [],
      "source": []
    },
    {
      "cell_type": "markdown",
      "metadata": {
        "id": "OzaYuRuogzWf"
      },
      "source": [
        "## Source\n",
        "Business Analytics Data Analysis & Decision Making "
      ]
    }
  ],
  "metadata": {
    "colab": {
      "provenance": []
    },
    "interpreter": {
      "hash": "e7370f93d1d0cde622a1f8e1c04877d8463912d04d973331ad4851f04de6915a"
    },
    "kernelspec": {
      "display_name": "Python 3.10.3 64-bit",
      "language": "python",
      "name": "python3"
    },
    "language_info": {
      "codemirror_mode": {
        "name": "ipython",
        "version": 3
      },
      "file_extension": ".py",
      "mimetype": "text/x-python",
      "name": "python",
      "nbconvert_exporter": "python",
      "pygments_lexer": "ipython3",
      "version": "3.10.4"
    },
    "orig_nbformat": 4
  },
  "nbformat": 4,
  "nbformat_minor": 0
}
