{
  "cells": [
    {
      "cell_type": "markdown",
      "metadata": {
        "id": "ifLP6PF2VNyG"
      },
      "source": [
        "# Lab 7.02 - Time series analysis"
      ]
    },
    {
      "cell_type": "code",
      "execution_count": null,
      "metadata": {
        "id": "PwYaTAjzVNyI"
      },
      "outputs": [],
      "source": [
        "# Package imports"
      ]
    },
    {
      "cell_type": "markdown",
      "metadata": {
        "id": "z8e3JogMwQLG"
      },
      "source": [
        "## Exercise 2 - aircraft engines\n",
        "\n",
        "You have been assigned to forecast the number of aircraft engines ordered each month from an engine manufacturing company. At the end of February, the\n",
        "forecast is that 100 engines will be ordered during April.\n",
        "Then during March, 120 engines are actually ordered.  \n",
        "Using $\\alpha$ = 0.3, determine a forecast (at the end of March) for the number of orders placed during April and during May. Use simple exponential\n",
        "smoothing.  \n",
        "These are the appropriate formulae\n",
        "\n",
        "$X_t = \\alpha x_t + (1 - \\alpha) X_{t-1}$\n",
        "\n",
        "$F_{t+m} = X_t$"
      ]
    },
    {
      "cell_type": "code",
      "execution_count": null,
      "metadata": {},
      "outputs": [],
      "source": []
    },
    {
      "cell_type": "markdown",
      "metadata": {
        "id": "OzaYuRuogzWf"
      },
      "source": [
        "## Source\n",
        "Business Analytics Data Analysis & Decision Making "
      ]
    }
  ],
  "metadata": {
    "colab": {
      "provenance": []
    },
    "interpreter": {
      "hash": "e7370f93d1d0cde622a1f8e1c04877d8463912d04d973331ad4851f04de6915a"
    },
    "kernelspec": {
      "display_name": "Python 3.10.3 64-bit",
      "language": "python",
      "name": "python3"
    },
    "language_info": {
      "codemirror_mode": {
        "name": "ipython",
        "version": 3
      },
      "file_extension": ".py",
      "mimetype": "text/x-python",
      "name": "python",
      "nbconvert_exporter": "python",
      "pygments_lexer": "ipython3",
      "version": "3.10.4"
    },
    "orig_nbformat": 4
  },
  "nbformat": 4,
  "nbformat_minor": 0
}
