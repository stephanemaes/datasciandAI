{
  "cells": [
    {
      "cell_type": "markdown",
      "metadata": {
        "id": "xDBTRYzLSeM_"
      },
      "source": [
        "# Lab 4.02 - Bivariate Analysis of Qualitative Data"
      ]
    },
    {
      "cell_type": "code",
      "execution_count": null,
      "metadata": {
        "id": "j8I-eUfMSeNF"
      },
      "outputs": [],
      "source": [
        "# Importing the necessary packages\n",
        "import numpy as np                                  # \"Scientific computing\"\n",
        "import scipy.stats as stats                         # Statistical tests\n",
        "\n",
        "import pandas as pd                                 # Data Frame\n",
        "from pandas.api.types import CategoricalDtype\n",
        "\n",
        "import matplotlib.pyplot as plt                     # Basic visualisation\n",
        "from statsmodels.graphics.mosaicplot import mosaic  # Mosaic diagram\n",
        "import seaborn as sns                               # Advanced data visualisation"
      ]
    },
    {
      "cell_type": "markdown",
      "metadata": {
        "id": "fu1A3Ho9f4x2"
      },
      "source": [
        "## Exercise 2 - NBA Salaries\n",
        "\n",
        "The file NBA.csv contains annual salaries for all NBA basketball players in the season (2008–2009), check whether there is independence between position and salary. To do this, first change any hyphenated position such as C-F to \n",
        "the first listed, in this case C. (Presumably, this is \n",
        "the player's primary position.)     \n",
        "Then remove $ and . in Annual Salary and make Annual Salary categorical with four categories: the first is all salaries below the first quartile, the second is all salaries from the first quartile to the median, and so on.  \n",
        "First make a plot\n",
        "\n",
        "Results of the main calculations:\n",
        "  - χ² ≈ 3.0344 \n",
        "  - p-value = 0.8045\n",
        "  - We do not reject H0\n",
        "\n",
        "\n",
        "  ![image.png](data:image/png;base64,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)"
      ]
    },
    {
      "cell_type": "code",
      "execution_count": null,
      "metadata": {
        "colab": {
          "base_uri": "https://localhost:8080/",
          "height": 362
        },
        "id": "pYO8aVkbhKjC",
        "outputId": "ed3d0a4f-d3a3-480c-847d-7467291212b6"
      },
      "outputs": [
        {
          "data": {
            "text/html": [
              "\n",
              "  <div id=\"df-3d1e1c72-9419-47c0-bffa-c4bcdb5d074d\">\n",
              "    <div class=\"colab-df-container\">\n",
              "      <div>\n",
              "<style scoped>\n",
              "    .dataframe tbody tr th:only-of-type {\n",
              "        vertical-align: middle;\n",
              "    }\n",
              "\n",
              "    .dataframe tbody tr th {\n",
              "        vertical-align: top;\n",
              "    }\n",
              "\n",
              "    .dataframe thead th {\n",
              "        text-align: right;\n",
              "    }\n",
              "</style>\n",
              "<table border=\"1\" class=\"dataframe\">\n",
              "  <thead>\n",
              "    <tr style=\"text-align: right;\">\n",
              "      <th></th>\n",
              "      <th>Player</th>\n",
              "      <th>Team</th>\n",
              "      <th>Position</th>\n",
              "      <th>Annual Salary</th>\n",
              "      <th>Contract Yrs</th>\n",
              "      <th>Contract Amt</th>\n",
              "      <th>Contract Thru</th>\n",
              "    </tr>\n",
              "  </thead>\n",
              "  <tbody>\n",
              "    <tr>\n",
              "      <th>0</th>\n",
              "      <td>Bibby, Mike</td>\n",
              "      <td>Atlanta Hawks</td>\n",
              "      <td>G</td>\n",
              "      <td>$14.983.603</td>\n",
              "      <td>1</td>\n",
              "      <td>$14.983.603</td>\n",
              "      <td>2008-09</td>\n",
              "    </tr>\n",
              "    <tr>\n",
              "      <th>1</th>\n",
              "      <td>Johnson, Joe</td>\n",
              "      <td>Atlanta Hawks</td>\n",
              "      <td>G</td>\n",
              "      <td>$14.232.566</td>\n",
              "      <td>5</td>\n",
              "      <td>$70.000.000</td>\n",
              "      <td>2009-10</td>\n",
              "    </tr>\n",
              "    <tr>\n",
              "      <th>2</th>\n",
              "      <td>Smith, Josh</td>\n",
              "      <td>Atlanta Hawks</td>\n",
              "      <td>F</td>\n",
              "      <td>$10.000.000</td>\n",
              "      <td>5</td>\n",
              "      <td>$58.000.000</td>\n",
              "      <td>2012-13</td>\n",
              "    </tr>\n",
              "    <tr>\n",
              "      <th>3</th>\n",
              "      <td>Claxton, Speedy</td>\n",
              "      <td>Atlanta Hawks</td>\n",
              "      <td>G</td>\n",
              "      <td>$5.757.818</td>\n",
              "      <td>4</td>\n",
              "      <td>$25.000.000</td>\n",
              "      <td>2010-11</td>\n",
              "    </tr>\n",
              "    <tr>\n",
              "      <th>4</th>\n",
              "      <td>Williams, Marvin</td>\n",
              "      <td>Atlanta Hawks</td>\n",
              "      <td>F</td>\n",
              "      <td>$5.636.142</td>\n",
              "      <td>4</td>\n",
              "      <td>$18.160.000</td>\n",
              "      <td>2008-09(t)</td>\n",
              "    </tr>\n",
              "    <tr>\n",
              "      <th>5</th>\n",
              "      <td>Horford, Al</td>\n",
              "      <td>Atlanta Hawks</td>\n",
              "      <td>C-F</td>\n",
              "      <td>$4.023.720</td>\n",
              "      <td>3</td>\n",
              "      <td>$12.080.160</td>\n",
              "      <td>2009-10</td>\n",
              "    </tr>\n",
              "    <tr>\n",
              "      <th>6</th>\n",
              "      <td>Pachulia, Zaza</td>\n",
              "      <td>Atlanta Hawks</td>\n",
              "      <td>C</td>\n",
              "      <td>$4.000.000</td>\n",
              "      <td>4</td>\n",
              "      <td>$16.000.000</td>\n",
              "      <td>2008-09</td>\n",
              "    </tr>\n",
              "    <tr>\n",
              "      <th>7</th>\n",
              "      <td>Evans, Maurice</td>\n",
              "      <td>Atlanta Hawks</td>\n",
              "      <td>F-G</td>\n",
              "      <td>$2.500.000</td>\n",
              "      <td>3</td>\n",
              "      <td>$7.500.000</td>\n",
              "      <td>2010-11</td>\n",
              "    </tr>\n",
              "    <tr>\n",
              "      <th>8</th>\n",
              "      <td>Law, Acie</td>\n",
              "      <td>Atlanta Hawks</td>\n",
              "      <td>G</td>\n",
              "      <td>$2.071.680</td>\n",
              "      <td>3</td>\n",
              "      <td>$6.214.920</td>\n",
              "      <td>2009-10</td>\n",
              "    </tr>\n",
              "    <tr>\n",
              "      <th>9</th>\n",
              "      <td>Murray, Ronald</td>\n",
              "      <td>Atlanta Hawks</td>\n",
              "      <td>G</td>\n",
              "      <td>$1.500.000</td>\n",
              "      <td>1</td>\n",
              "      <td>$1.500.000</td>\n",
              "      <td>2008-09</td>\n",
              "    </tr>\n",
              "  </tbody>\n",
              "</table>\n",
              "</div>\n",
              "      <button class=\"colab-df-convert\" onclick=\"convertToInteractive('df-3d1e1c72-9419-47c0-bffa-c4bcdb5d074d')\"\n",
              "              title=\"Convert this dataframe to an interactive table.\"\n",
              "              style=\"display:none;\">\n",
              "        \n",
              "  <svg xmlns=\"http://www.w3.org/2000/svg\" height=\"24px\"viewBox=\"0 0 24 24\"\n",
              "       width=\"24px\">\n",
              "    <path d=\"M0 0h24v24H0V0z\" fill=\"none\"/>\n",
              "    <path d=\"M18.56 5.44l.94 2.06.94-2.06 2.06-.94-2.06-.94-.94-2.06-.94 2.06-2.06.94zm-11 1L8.5 8.5l.94-2.06 2.06-.94-2.06-.94L8.5 2.5l-.94 2.06-2.06.94zm10 10l.94 2.06.94-2.06 2.06-.94-2.06-.94-.94-2.06-.94 2.06-2.06.94z\"/><path d=\"M17.41 7.96l-1.37-1.37c-.4-.4-.92-.59-1.43-.59-.52 0-1.04.2-1.43.59L10.3 9.45l-7.72 7.72c-.78.78-.78 2.05 0 2.83L4 21.41c.39.39.9.59 1.41.59.51 0 1.02-.2 1.41-.59l7.78-7.78 2.81-2.81c.8-.78.8-2.07 0-2.86zM5.41 20L4 18.59l7.72-7.72 1.47 1.35L5.41 20z\"/>\n",
              "  </svg>\n",
              "      </button>\n",
              "      \n",
              "  <style>\n",
              "    .colab-df-container {\n",
              "      display:flex;\n",
              "      flex-wrap:wrap;\n",
              "      gap: 12px;\n",
              "    }\n",
              "\n",
              "    .colab-df-convert {\n",
              "      background-color: #E8F0FE;\n",
              "      border: none;\n",
              "      border-radius: 50%;\n",
              "      cursor: pointer;\n",
              "      display: none;\n",
              "      fill: #1967D2;\n",
              "      height: 32px;\n",
              "      padding: 0 0 0 0;\n",
              "      width: 32px;\n",
              "    }\n",
              "\n",
              "    .colab-df-convert:hover {\n",
              "      background-color: #E2EBFA;\n",
              "      box-shadow: 0px 1px 2px rgba(60, 64, 67, 0.3), 0px 1px 3px 1px rgba(60, 64, 67, 0.15);\n",
              "      fill: #174EA6;\n",
              "    }\n",
              "\n",
              "    [theme=dark] .colab-df-convert {\n",
              "      background-color: #3B4455;\n",
              "      fill: #D2E3FC;\n",
              "    }\n",
              "\n",
              "    [theme=dark] .colab-df-convert:hover {\n",
              "      background-color: #434B5C;\n",
              "      box-shadow: 0px 1px 3px 1px rgba(0, 0, 0, 0.15);\n",
              "      filter: drop-shadow(0px 1px 2px rgba(0, 0, 0, 0.3));\n",
              "      fill: #FFFFFF;\n",
              "    }\n",
              "  </style>\n",
              "\n",
              "      <script>\n",
              "        const buttonEl =\n",
              "          document.querySelector('#df-3d1e1c72-9419-47c0-bffa-c4bcdb5d074d button.colab-df-convert');\n",
              "        buttonEl.style.display =\n",
              "          google.colab.kernel.accessAllowed ? 'block' : 'none';\n",
              "\n",
              "        async function convertToInteractive(key) {\n",
              "          const element = document.querySelector('#df-3d1e1c72-9419-47c0-bffa-c4bcdb5d074d');\n",
              "          const dataTable =\n",
              "            await google.colab.kernel.invokeFunction('convertToInteractive',\n",
              "                                                     [key], {});\n",
              "          if (!dataTable) return;\n",
              "\n",
              "          const docLinkHtml = 'Like what you see? Visit the ' +\n",
              "            '<a target=\"_blank\" href=https://colab.research.google.com/notebooks/data_table.ipynb>data table notebook</a>'\n",
              "            + ' to learn more about interactive tables.';\n",
              "          element.innerHTML = '';\n",
              "          dataTable['output_type'] = 'display_data';\n",
              "          await google.colab.output.renderOutput(dataTable, element);\n",
              "          const docLink = document.createElement('div');\n",
              "          docLink.innerHTML = docLinkHtml;\n",
              "          element.appendChild(docLink);\n",
              "        }\n",
              "      </script>\n",
              "    </div>\n",
              "  </div>\n",
              "  "
            ],
            "text/plain": [
              "             Player           Team Position Annual Salary  Contract Yrs  \\\n",
              "0       Bibby, Mike  Atlanta Hawks        G  $14.983.603              1   \n",
              "1      Johnson, Joe  Atlanta Hawks        G  $14.232.566              5   \n",
              "2       Smith, Josh  Atlanta Hawks        F  $10.000.000              5   \n",
              "3   Claxton, Speedy  Atlanta Hawks        G   $5.757.818              4   \n",
              "4  Williams, Marvin  Atlanta Hawks        F   $5.636.142              4   \n",
              "5       Horford, Al  Atlanta Hawks      C-F   $4.023.720              3   \n",
              "6    Pachulia, Zaza  Atlanta Hawks        C   $4.000.000              4   \n",
              "7    Evans, Maurice  Atlanta Hawks      F-G   $2.500.000              3   \n",
              "8         Law, Acie  Atlanta Hawks        G   $2.071.680              3   \n",
              "9    Murray, Ronald  Atlanta Hawks        G   $1.500.000              1   \n",
              "\n",
              "   Contract Amt Contract Thru  \n",
              "0  $14.983.603        2008-09  \n",
              "1  $70.000.000        2009-10  \n",
              "2  $58.000.000        2012-13  \n",
              "3  $25.000.000        2010-11  \n",
              "4  $18.160.000     2008-09(t)  \n",
              "5  $12.080.160        2009-10  \n",
              "6  $16.000.000        2008-09  \n",
              "7   $7.500.000        2010-11  \n",
              "8   $6.214.920        2009-10  \n",
              "9   $1.500.000        2008-09  "
            ]
          },
          "execution_count": 102,
          "metadata": {},
          "output_type": "execute_result"
        }
      ],
      "source": [
        "df = pd.read_csv('https://raw.githubusercontent.com/HoGentTIN/dsai-labs/main/data/NBA.csv', sep=\";\")\n",
        "df.head(10)"
      ]
    },
    {
      "cell_type": "code",
      "execution_count": null,
      "metadata": {
        "id": "bNAXyoIqi8Gq"
      },
      "outputs": [],
      "source": []
    },
    {
      "cell_type": "code",
      "execution_count": null,
      "metadata": {
        "id": "p15X1skWjOTB"
      },
      "outputs": [],
      "source": []
    },
    {
      "cell_type": "code",
      "execution_count": null,
      "metadata": {
        "id": "nnRIIva7lub-"
      },
      "outputs": [],
      "source": []
    },
    {
      "cell_type": "code",
      "execution_count": null,
      "metadata": {
        "id": "qhiy0XMW9Dz1"
      },
      "outputs": [],
      "source": []
    },
    {
      "cell_type": "code",
      "execution_count": null,
      "metadata": {
        "id": "ODIab7palub_"
      },
      "outputs": [],
      "source": [
        "\n"
      ]
    },
    {
      "cell_type": "code",
      "execution_count": null,
      "metadata": {
        "id": "rtXfopWAlub_"
      },
      "outputs": [],
      "source": []
    },
    {
      "cell_type": "code",
      "execution_count": null,
      "metadata": {
        "id": "GsToperXlub_"
      },
      "outputs": [],
      "source": []
    }
  ],
  "metadata": {
    "colab": {
      "provenance": []
    },
    "interpreter": {
      "hash": "e7370f93d1d0cde622a1f8e1c04877d8463912d04d973331ad4851f04de6915a"
    },
    "kernelspec": {
      "display_name": "Python 3.10.0 64-bit",
      "language": "python",
      "name": "python3"
    },
    "language_info": {
      "codemirror_mode": {
        "name": "ipython",
        "version": 3
      },
      "file_extension": ".py",
      "mimetype": "text/x-python",
      "name": "python",
      "nbconvert_exporter": "python",
      "pygments_lexer": "ipython3",
      "version": "3.10.2"
    },
    "orig_nbformat": 4
  },
  "nbformat": 4,
  "nbformat_minor": 0
}
