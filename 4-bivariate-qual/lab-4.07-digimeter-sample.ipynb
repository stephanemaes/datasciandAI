{
  "cells": [
    {
      "cell_type": "markdown",
      "metadata": {
        "id": "xDBTRYzLSeM_"
      },
      "source": [
        "# Lab 4.07 - Bivariate Analysis of Qualitative Data\n"
      ]
    },
    {
      "cell_type": "code",
      "execution_count": null,
      "metadata": {
        "id": "j8I-eUfMSeNF"
      },
      "outputs": [],
      "source": [
        "# Importing the necessary packages\n",
        "import numpy as np                                  # \"Scientific computing\"\n",
        "import scipy.stats as stats                         # Statistical tests\n",
        "\n",
        "import pandas as pd                                 # Data Frame\n",
        "from pandas.api.types import CategoricalDtype\n",
        "\n",
        "import matplotlib.pyplot as plt                     # Basic visualisation\n",
        "from statsmodels.graphics.mosaicplot import mosaic  # Mosaic diagram\n",
        "import seaborn as sns                               # Advanced data visualisation"
      ]
    },
    {
      "cell_type": "markdown",
      "metadata": {
        "id": "eur1Ec708lNw"
      },
      "source": [
        "## Exercise 7 - Digimeter sample\n",
        "\n",
        "Every year, Imec (formerly iMinds) carries out a study on the use of digital technologies in Flanders, the Digimeter (Vanhaelewyn & De Marez, 2016). In this exercise we will check whether the sample of the Digimeter 2016 (n = 2164) is representative of the population in terms of the age categories of the participants.\n",
        "\n",
        "You can find the frequency tables in the following data files:\n",
        "\n",
        "- `data/leeftijden-digimeter.csv`: relative frequencies of the age of participants in the iMec Digimeter 2016 and the Flemish population (as reported in the Digimeter publication)\n",
        "- `data/leeftijden-bestat-vl.csv`: absolute frequencies for the different age categories of the Flemish population (Source: BelStat, <https://bestat.economie.fgov.be/bestat/> , C01.1: Population by place of residence (province), sex, position in the household (C), marital status and age (B)).  \n",
        "\n",
        "\n",
        "1. The table with age data for the Flemish population as a whole has more categories than the one used in the Digimeter. Make a summary so that you have the same categories as those of the Digimeter.\n",
        "2. In order to apply the goodness-of-fit test, we need the absolute frequencies of the observed values ​​in the sample. Calculate this.\n",
        "3. Also calculate the expected percentages ($\\pi_i$) for the population as a whole.\n",
        "4. Perform the goodness-of-fit test on the distribution of age categories in the Digimeter sample. In this respect, is the sample indeed representative of the Flemish population?\n",
        "\n",
        "Results of the main calculations (rounded up to 3 decimal places):\n",
        "\n",
        "- χ² ≈ 6.700 (df = 6),\n",
        "- g ≈ 12.592,\n",
        "- p ≈ 0.350"
      ]
    },
    {
      "cell_type": "markdown",
      "metadata": {
        "id": "iSHeFyc6cZQT"
      },
      "source": [
        "Read the dataset `data/leeftijden-digimeter.csv`  \n",
        "Make sure the Percentages are actually percentages.\n"
      ]
    },
    {
      "cell_type": "code",
      "execution_count": null,
      "metadata": {
        "id": "8yMICTgm_ood"
      },
      "outputs": [],
      "source": []
    },
    {
      "cell_type": "markdown",
      "metadata": {
        "id": "qGVss_Llc4am"
      },
      "source": [
        "Read the dataset `leeftijden-bestat-vl.csv`"
      ]
    },
    {
      "cell_type": "code",
      "execution_count": null,
      "metadata": {
        "id": "q6iIdrNFDm7U"
      },
      "outputs": [],
      "source": []
    },
    {
      "cell_type": "markdown",
      "metadata": {
        "id": "q65MAS3idH7g"
      },
      "source": [
        "1. The table with age data for the Flemish population as a whole has more categories than the one used in the Digimeter. Make a summary so that you have the same categories as those of the Digimeter.\n",
        "\n",
        "![image.png](data:image/png;base64,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)"
      ]
    },
    {
      "cell_type": "code",
      "execution_count": null,
      "metadata": {
        "id": "wy1vq1xiFIfs"
      },
      "outputs": [],
      "source": [
        "\n"
      ]
    },
    {
      "cell_type": "markdown",
      "metadata": {
        "id": "YJqOlCoQnc6W"
      },
      "source": [
        "2. In order to apply the goodness-of-fit test, we need the absolute frequencies of the observed values ​​in the sample. Calculate these.  \n",
        "Answer = [142.824 307.288 324.6   352.732 374.372 157.972 502.048]"
      ]
    },
    {
      "cell_type": "code",
      "execution_count": null,
      "metadata": {
        "id": "qPcgpC_mFdRz"
      },
      "outputs": [],
      "source": []
    },
    {
      "cell_type": "markdown",
      "metadata": {
        "id": "sRfq-wXvnhyM"
      },
      "source": [
        "3. Also calculate the expected percentages ($\\pi_i$) for the population as a whole.  \n",
        "Answer = [0.06915147 0.1438298  0.15293412 0.17959016 0.16540295 0.07153788\n",
        " 0.21755361]"
      ]
    },
    {
      "cell_type": "code",
      "execution_count": null,
      "metadata": {
        "id": "SBuiaY1QI6Lz"
      },
      "outputs": [],
      "source": []
    },
    {
      "cell_type": "markdown",
      "metadata": {
        "id": "-GKZZQXDd7pN"
      },
      "source": [
        "4. Perform the goodness-of-fit test on the distribution of age categories in the Digimeter sample. In this respect, is the sample indeed representative of the Flemish population?  \n",
        "\n",
        "Results of the main calculations (rounded up to 3 decimal places):\n",
        "\n",
        "χ² ≈ 6.700 (df = 6),\n",
        "g ≈ 12.592,\n",
        "p ≈ 0.350"
      ]
    },
    {
      "cell_type": "code",
      "execution_count": null,
      "metadata": {
        "id": "wfNU9VTyLYAy"
      },
      "outputs": [],
      "source": []
    },
    {
      "cell_type": "code",
      "execution_count": null,
      "metadata": {
        "id": "mM3npU4_MDFK"
      },
      "outputs": [],
      "source": []
    }
  ],
  "metadata": {
    "colab": {
      "collapsed_sections": [],
      "name": "labs-chi-squared.ipynb",
      "provenance": []
    },
    "interpreter": {
      "hash": "e7370f93d1d0cde622a1f8e1c04877d8463912d04d973331ad4851f04de6915a"
    },
    "kernelspec": {
      "display_name": "Python 3.10.0 64-bit",
      "language": "python",
      "name": "python3"
    },
    "language_info": {
      "codemirror_mode": {
        "name": "ipython",
        "version": 3
      },
      "file_extension": ".py",
      "mimetype": "text/x-python",
      "name": "python",
      "nbconvert_exporter": "python",
      "pygments_lexer": "ipython3",
      "version": "3.10.2"
    },
    "orig_nbformat": 4
  },
  "nbformat": 4,
  "nbformat_minor": 0
}
